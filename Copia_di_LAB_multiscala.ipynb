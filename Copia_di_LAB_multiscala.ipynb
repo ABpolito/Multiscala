{
  "cells": [
    {
      "cell_type": "markdown",
      "metadata": {
        "id": "view-in-github",
        "colab_type": "text"
      },
      "source": [
        "<a href=\"https://colab.research.google.com/github/ABpolito/Multiscala/blob/main/Copia_di_LAB_multiscala.ipynb\" target=\"_parent\"><img src=\"https://colab.research.google.com/assets/colab-badge.svg\" alt=\"Open In Colab\"/></a>"
      ]
    },
    {
      "cell_type": "code",
      "execution_count": null,
      "metadata": {
        "id": "xMcJCLLzje4e",
        "cellView": "form"
      },
      "outputs": [],
      "source": [
        "#@title Increase the output length \n",
        "from notebook.services.config import ConfigManager\n",
        "cm = ConfigManager().update('notebook', {'limit_output': 10000000})"
      ]
    },
    {
      "cell_type": "code",
      "execution_count": null,
      "metadata": {
        "id": "Pw8SBdNnlewA",
        "cellView": "form"
      },
      "outputs": [],
      "source": [
        "#@title Installing GROMACS and related packages\n",
        "!apt install gromacs &> /dev/null\n",
        "!apt install dssp &> /dev/null\n",
        "!ln -s /usr/bin/dssp /usr/local/bin/dssp\n",
        "!apt install ghostscript &> /dev/null"
      ]
    },
    {
      "cell_type": "code",
      "execution_count": null,
      "metadata": {
        "cellView": "form",
        "id": "C2hA7f_MEF5K"
      },
      "outputs": [],
      "source": [
        "#@title Installing NGLview\n",
        "!pip install nglview  &> /dev/null\n",
        "!pip install simpletraj  &> /dev/null\n",
        "!pip install mdanalysis &> /dev/null\n",
        "from google.colab import output\n",
        "output.enable_custom_widget_manager()"
      ]
    },
    {
      "cell_type": "code",
      "source": [
        "%%bash\n",
        "mv cady.gro cady.itp cady.top PROGETTO"
      ],
      "metadata": {
        "id": "CHM6tzGG-YI1"
      },
      "execution_count": null,
      "outputs": []
    },
    {
      "cell_type": "markdown",
      "source": [
        "# Modifica Azoti"
      ],
      "metadata": {
        "id": "aZAEsXTeuh97"
      }
    },
    {
      "cell_type": "code",
      "source": [
        "%%bash\n",
        "\n",
        "#!/bin/bash\n",
        "\n",
        "# Get the file name\n",
        "file=\".\"\n",
        "\n",
        "# Create the output file\n",
        "touch mod.pdb\n",
        "\n",
        "# Multiply each position value of nitrogen atoms in the file by a different random number\n",
        "sed '/^ATOM.*N/ {\n",
        "  r1 = (0.85 + rand() * (0.95 - 0.85))\n",
        "  r2 = (0.85 + rand() * (0.95 - 0.85))\n",
        "  r3 = (0.85 + rand() * (0.95 - 0.85))\n",
        "  gsub(/^ATOM.*N.*[0-9][0-9]*\\.[0-9][0-9]*\\([0-9][0-9]*\\.[0-9][0-9]*\\)\\{2\\}/, r1*$5\" \"$6\" \"$7)\n",
        "}\n",
        "1' $file >> mod.pdb"
      ],
      "metadata": {
        "id": "1xOIFlUwunng"
      },
      "execution_count": null,
      "outputs": []
    },
    {
      "cell_type": "markdown",
      "source": [
        "## Generazione file"
      ],
      "metadata": {
        "id": "8Id4hQ5ry3zh"
      }
    },
    {
      "cell_type": "code",
      "source": [
        "!cd PROGETTO"
      ],
      "metadata": {
        "id": "XBq_jQKv_ddK"
      },
      "execution_count": null,
      "outputs": []
    },
    {
      "cell_type": "code",
      "execution_count": null,
      "metadata": {
        "id": "fiJQ_MsYqAgZ",
        "colab": {
          "base_uri": "https://localhost:8080/"
        },
        "outputId": "d6f8a887-5eea-4daf-9472-f326c1784fb0"
      },
      "outputs": [
        {
          "output_type": "stream",
          "name": "stdout",
          "text": [
            "             :-) GROMACS - gmx pdb2gmx, 2020.1-Ubuntu-2020.1-1 (-:\n",
            "\n",
            "                            GROMACS is written by:\n",
            "     Emile Apol      Rossen Apostolov      Paul Bauer     Herman J.C. Berendsen\n",
            "    Par Bjelkmar      Christian Blau   Viacheslav Bolnykh     Kevin Boyd    \n",
            " Aldert van Buuren   Rudi van Drunen     Anton Feenstra       Alan Gray     \n",
            "  Gerrit Groenhof     Anca Hamuraru    Vincent Hindriksen  M. Eric Irrgang  \n",
            "  Aleksei Iupinov   Christoph Junghans     Joe Jordan     Dimitrios Karkoulis\n",
            "    Peter Kasson        Jiri Kraus      Carsten Kutzner      Per Larsson    \n",
            "  Justin A. Lemkul    Viveca Lindahl    Magnus Lundborg     Erik Marklund   \n",
            "    Pascal Merz     Pieter Meulenhoff    Teemu Murtola       Szilard Pall   \n",
            "    Sander Pronk      Roland Schulz      Michael Shirts    Alexey Shvetsov  \n",
            "   Alfons Sijbers     Peter Tieleman      Jon Vincent      Teemu Virolainen \n",
            " Christian Wennberg    Maarten Wolf      Artem Zhmurov   \n",
            "                           and the project leaders:\n",
            "        Mark Abraham, Berk Hess, Erik Lindahl, and David van der Spoel\n",
            "\n",
            "Copyright (c) 1991-2000, University of Groningen, The Netherlands.\n",
            "Copyright (c) 2001-2019, The GROMACS development team at\n",
            "Uppsala University, Stockholm University and\n",
            "the Royal Institute of Technology, Sweden.\n",
            "check out http://www.gromacs.org for more information.\n",
            "\n",
            "GROMACS is free software; you can redistribute it and/or modify it\n",
            "under the terms of the GNU Lesser General Public License\n",
            "as published by the Free Software Foundation; either version 2.1\n",
            "of the License, or (at your option) any later version.\n",
            "\n",
            "GROMACS:      gmx pdb2gmx, version 2020.1-Ubuntu-2020.1-1\n",
            "Executable:   /usr/bin/gmx\n",
            "Data prefix:  /usr\n",
            "Working dir:  /content\n",
            "Command line:\n",
            "  gmx pdb2gmx -f PROGETTO/cady_3.pdb -i cady.itp -p cady.top -o cady.gro -ff amber99sb-ildn -ignh -heavyh -water tip3p\n",
            "\n",
            "\n",
            "Using the Amber99sb-ildn force field in directory amber99sb-ildn.ff\n",
            "\n",
            "going to rename amber99sb-ildn.ff/aminoacids.r2b\n",
            "Opening force field file /usr/share/gromacs/top/amber99sb-ildn.ff/aminoacids.r2b\n",
            "going to rename amber99sb-ildn.ff/dna.r2b\n",
            "Opening force field file /usr/share/gromacs/top/amber99sb-ildn.ff/dna.r2b\n",
            "going to rename amber99sb-ildn.ff/rna.r2b\n",
            "Opening force field file /usr/share/gromacs/top/amber99sb-ildn.ff/rna.r2b\n",
            "Reading PROGETTO/cady_3.pdb...\n",
            "Read 'Glycine aRginine prOline Methionine Alanine Cystine Serine in water t= 30000.00000', 188 atoms\n",
            "Analyzing pdb file\n",
            "Splitting chemical chains based on TER records or chain id changing.\n",
            "There are 1 chains and 0 blocks of water and 20 residues with 188 atoms\n",
            "\n",
            "  chain  #res #atoms\n",
            "  1 ' '    20    188  \n",
            "\n",
            "All occupancies are one\n",
            "Opening force field file /usr/share/gromacs/top/amber99sb-ildn.ff/atomtypes.atp\n",
            "Reading residue database... (Amber99sb-ildn)\n",
            "Opening force field file /usr/share/gromacs/top/amber99sb-ildn.ff/aminoacids.rtp\n",
            "Opening force field file /usr/share/gromacs/top/amber99sb-ildn.ff/dna.rtp\n",
            "Opening force field file /usr/share/gromacs/top/amber99sb-ildn.ff/rna.rtp\n",
            "Opening force field file /usr/share/gromacs/top/amber99sb-ildn.ff/aminoacids.hdb\n",
            "Opening force field file /usr/share/gromacs/top/amber99sb-ildn.ff/dna.hdb\n",
            "Opening force field file /usr/share/gromacs/top/amber99sb-ildn.ff/rna.hdb\n",
            "Opening force field file /usr/share/gromacs/top/amber99sb-ildn.ff/aminoacids.n.tdb\n",
            "Opening force field file /usr/share/gromacs/top/amber99sb-ildn.ff/aminoacids.c.tdb\n",
            "Processing chain 1 (188 atoms, 20 residues)\n",
            "Identified residue GLY1 as a starting terminus.\n",
            "Identified residue ALA20 as a ending terminus.\n",
            "8 out of 8 lines of specbond.dat converted successfully\n",
            "\n",
            "WARNING: Duplicate line found in or between hackblock and rtp entries\n",
            "\n",
            "\n",
            "WARNING: Duplicate line found in or between hackblock and rtp entries\n",
            "\n",
            "\n",
            "WARNING: Duplicate line found in or between hackblock and rtp entries\n",
            "\n",
            "\n",
            "WARNING: Duplicate line found in or between hackblock and rtp entries\n",
            "\n",
            "\n",
            "WARNING: Duplicate line found in or between hackblock and rtp entries\n",
            "\n",
            "\n",
            "WARNING: Duplicate line found in or between hackblock and rtp entries\n",
            "\n",
            "\n",
            "WARNING: Duplicate line found in or between hackblock and rtp entries\n",
            "\n",
            "\n",
            "WARNING: Duplicate line found in or between hackblock and rtp entries\n",
            "\n",
            "\n",
            "WARNING: Duplicate line found in or between hackblock and rtp entries\n",
            "\n",
            "\n",
            "WARNING: Duplicate line found in or between hackblock and rtp entries\n",
            "\n",
            "\n",
            "WARNING: Duplicate line found in or between hackblock and rtp entries\n",
            "\n",
            "\n",
            "WARNING: Duplicate line found in or between hackblock and rtp entries\n",
            "\n",
            "\n",
            "WARNING: Duplicate line found in or between hackblock and rtp entries\n",
            "\n",
            "\n",
            "WARNING: Duplicate line found in or between hackblock and rtp entries\n",
            "\n",
            "\n",
            "WARNING: Duplicate line found in or between hackblock and rtp entries\n",
            "\n",
            "\n",
            "WARNING: Duplicate line found in or between hackblock and rtp entries\n",
            "\n",
            "\n",
            "WARNING: Duplicate line found in or between hackblock and rtp entries\n",
            "\n",
            "\n",
            "WARNING: Duplicate line found in or between hackblock and rtp entries\n",
            "\n",
            "\n",
            "WARNING: Duplicate line found in or between hackblock and rtp entries\n",
            "\n",
            "\n",
            "WARNING: Duplicate line found in or between hackblock and rtp entries\n",
            "\n",
            "\n",
            "WARNING: Duplicate line found in or between hackblock and rtp entries\n",
            "\n",
            "\n",
            "WARNING: Duplicate line found in or between hackblock and rtp entries\n",
            "\n",
            "\n",
            "WARNING: Duplicate line found in or between hackblock and rtp entries\n",
            "\n",
            "\n",
            "WARNING: Duplicate line found in or between hackblock and rtp entries\n",
            "\n",
            "\n",
            "WARNING: Duplicate line found in or between hackblock and rtp entries\n",
            "\n",
            "\n",
            "WARNING: Duplicate line found in or between hackblock and rtp entries\n",
            "\n",
            "\n",
            "WARNING: Duplicate line found in or between hackblock and rtp entries\n",
            "\n",
            "\n",
            "WARNING: Duplicate line found in or between hackblock and rtp entries\n",
            "\n",
            "Opening force field file /usr/share/gromacs/top/amber99sb-ildn.ff/aminoacids.arn\n",
            "Opening force field file /usr/share/gromacs/top/amber99sb-ildn.ff/dna.arn\n",
            "Opening force field file /usr/share/gromacs/top/amber99sb-ildn.ff/rna.arn\n",
            "Checking for duplicate atoms....\n",
            "Generating any missing hydrogen atoms and/or adding termini.\n",
            "Now there are 20 residues with 390 atoms\n",
            "Making bonds...\n",
            "Number of bonds was 398, now 397\n",
            "Generating angles, dihedrals and pairs...\n",
            "Before cleaning: 1026 pairs\n",
            "Before cleaning: 1060 dihedrals\n",
            "Keeping all generated dihedrals\n",
            "Making cmap torsions...\n",
            "There are 1060 dihedrals,   87 impropers,  712 angles\n",
            "          1014 pairs,      397 bonds and     0 virtual sites\n",
            "Total mass 2627.276 a.m.u.\n",
            "Total charge 5.000 e\n",
            "Writing topology\n",
            "\n",
            "Writing coordinate file...\n",
            "\t\t--------- PLEASE NOTE ------------\n",
            "You have successfully generated a topology from: PROGETTO/cady_3.pdb.\n",
            "The Amber99sb-ildn force field and the tip3p water model are used.\n",
            "\t\t--------- ETON ESAELP ------------\n",
            "\n",
            "GROMACS reminds you: \"Our struggle today is not to have a female Einstein get appointed as an assistant professor. It is for a woman schlemiel to get as quickly promoted as a male schlemiel.\" (Bella Abzug)\n",
            "\n"
          ]
        }
      ],
      "source": [
        "!gmx pdb2gmx -f PROGETTO/cady_3.pdb -i cady.itp -p cady.top -o cady.gro -ff amber99sb-ildn  -ignh -heavyh -water tip3p"
      ]
    },
    {
      "cell_type": "code",
      "execution_count": null,
      "metadata": {
        "id": "5gipF9H-mDnW",
        "scrolled": true,
        "colab": {
          "base_uri": "https://localhost:8080/"
        },
        "outputId": "e59e7b8f-e7cd-43d7-e5a8-d4ebc349bf7e"
      },
      "outputs": [
        {
          "output_type": "stream",
          "name": "stdout",
          "text": [
            "             :-) GROMACS - gmx editconf, 2020.1-Ubuntu-2020.1-1 (-:\n",
            "\n",
            "                            GROMACS is written by:\n",
            "     Emile Apol      Rossen Apostolov      Paul Bauer     Herman J.C. Berendsen\n",
            "    Par Bjelkmar      Christian Blau   Viacheslav Bolnykh     Kevin Boyd    \n",
            " Aldert van Buuren   Rudi van Drunen     Anton Feenstra       Alan Gray     \n",
            "  Gerrit Groenhof     Anca Hamuraru    Vincent Hindriksen  M. Eric Irrgang  \n",
            "  Aleksei Iupinov   Christoph Junghans     Joe Jordan     Dimitrios Karkoulis\n",
            "    Peter Kasson        Jiri Kraus      Carsten Kutzner      Per Larsson    \n",
            "  Justin A. Lemkul    Viveca Lindahl    Magnus Lundborg     Erik Marklund   \n",
            "    Pascal Merz     Pieter Meulenhoff    Teemu Murtola       Szilard Pall   \n",
            "    Sander Pronk      Roland Schulz      Michael Shirts    Alexey Shvetsov  \n",
            "   Alfons Sijbers     Peter Tieleman      Jon Vincent      Teemu Virolainen \n",
            " Christian Wennberg    Maarten Wolf      Artem Zhmurov   \n",
            "                           and the project leaders:\n",
            "        Mark Abraham, Berk Hess, Erik Lindahl, and David van der Spoel\n",
            "\n",
            "Copyright (c) 1991-2000, University of Groningen, The Netherlands.\n",
            "Copyright (c) 2001-2019, The GROMACS development team at\n",
            "Uppsala University, Stockholm University and\n",
            "the Royal Institute of Technology, Sweden.\n",
            "check out http://www.gromacs.org for more information.\n",
            "\n",
            "GROMACS is free software; you can redistribute it and/or modify it\n",
            "under the terms of the GNU Lesser General Public License\n",
            "as published by the Free Software Foundation; either version 2.1\n",
            "of the License, or (at your option) any later version.\n",
            "\n",
            "GROMACS:      gmx editconf, version 2020.1-Ubuntu-2020.1-1\n",
            "Executable:   /usr/bin/gmx\n",
            "Data prefix:  /usr\n",
            "Working dir:  /content\n",
            "Command line:\n",
            "  gmx editconf -f PROGETTO/cady.gro -o BOX/box.gro -c -d 0.8 -bt dodecahedron\n",
            "\n",
            "Note that major changes are planned in future for editconf, to improve usability and utility.\n",
            "Read 390 atoms\n",
            "Volume: 300.422 nm^3, corresponds to roughly 135100 electrons\n",
            "No velocities found\n",
            "    system size :  2.817  2.570  2.709 (nm)\n",
            "    diameter    :  3.341               (nm)\n",
            "    center      :  3.408  3.285  3.354 (nm)\n",
            "    box vectors :  6.817  6.569  6.708 (nm)\n",
            "    box angles  :  90.00  90.00  90.00 (degrees)\n",
            "    box volume  : 300.42               (nm^3)\n",
            "    shift       :  0.297  0.421 -1.607 (nm)\n",
            "new center      :  3.706  3.706  1.747 (nm)\n",
            "new box vectors :  4.941  4.941  4.941 (nm)\n",
            "new box angles  :  60.00  60.00  90.00 (degrees)\n",
            "new box volume  :  85.28               (nm^3)\n",
            "\n",
            "GROMACS reminds you: \"Way to Go Dude\" (Beavis and Butthead)\n",
            "\n"
          ]
        }
      ],
      "source": [
        "!gmx editconf -f PROGETTO/cady.gro -o BOX/box.gro -c -d 0.8 -bt dodecahedron"
      ]
    },
    {
      "cell_type": "code",
      "execution_count": null,
      "metadata": {
        "id": "qnAaZXjNmDnc",
        "scrolled": true,
        "colab": {
          "base_uri": "https://localhost:8080/"
        },
        "outputId": "429ee88d-7887-4d8e-8697-24384e2c4d28"
      },
      "outputs": [
        {
          "output_type": "stream",
          "name": "stdout",
          "text": [
            "             :-) GROMACS - gmx solvate, 2020.1-Ubuntu-2020.1-1 (-:\n",
            "\n",
            "                            GROMACS is written by:\n",
            "     Emile Apol      Rossen Apostolov      Paul Bauer     Herman J.C. Berendsen\n",
            "    Par Bjelkmar      Christian Blau   Viacheslav Bolnykh     Kevin Boyd    \n",
            " Aldert van Buuren   Rudi van Drunen     Anton Feenstra       Alan Gray     \n",
            "  Gerrit Groenhof     Anca Hamuraru    Vincent Hindriksen  M. Eric Irrgang  \n",
            "  Aleksei Iupinov   Christoph Junghans     Joe Jordan     Dimitrios Karkoulis\n",
            "    Peter Kasson        Jiri Kraus      Carsten Kutzner      Per Larsson    \n",
            "  Justin A. Lemkul    Viveca Lindahl    Magnus Lundborg     Erik Marklund   \n",
            "    Pascal Merz     Pieter Meulenhoff    Teemu Murtola       Szilard Pall   \n",
            "    Sander Pronk      Roland Schulz      Michael Shirts    Alexey Shvetsov  \n",
            "   Alfons Sijbers     Peter Tieleman      Jon Vincent      Teemu Virolainen \n",
            " Christian Wennberg    Maarten Wolf      Artem Zhmurov   \n",
            "                           and the project leaders:\n",
            "        Mark Abraham, Berk Hess, Erik Lindahl, and David van der Spoel\n",
            "\n",
            "Copyright (c) 1991-2000, University of Groningen, The Netherlands.\n",
            "Copyright (c) 2001-2019, The GROMACS development team at\n",
            "Uppsala University, Stockholm University and\n",
            "the Royal Institute of Technology, Sweden.\n",
            "check out http://www.gromacs.org for more information.\n",
            "\n",
            "GROMACS is free software; you can redistribute it and/or modify it\n",
            "under the terms of the GNU Lesser General Public License\n",
            "as published by the Free Software Foundation; either version 2.1\n",
            "of the License, or (at your option) any later version.\n",
            "\n",
            "GROMACS:      gmx solvate, version 2020.1-Ubuntu-2020.1-1\n",
            "Executable:   /usr/bin/gmx\n",
            "Data prefix:  /usr\n",
            "Working dir:  /content\n",
            "Command line:\n",
            "  gmx solvate -cp BOX/box.gro -o BOX/solvated.gro -p PROGETTO/cady.top\n",
            "\n",
            "Reading solute configuration\n",
            "Reading solvent configuration\n",
            "\n",
            "Initialising inter-atomic distances...\n",
            "\n",
            "WARNING: Masses and atomic (Van der Waals) radii will be guessed\n",
            "         based on residue and atom names, since they could not be\n",
            "         definitively assigned from the information in your input\n",
            "         files. These guessed numbers might deviate from the mass\n",
            "         and radius of the atom type. Please check the output\n",
            "         files if necessary.\n",
            "\n",
            "NOTE: From version 5.0 gmx solvate uses the Van der Waals radii\n",
            "from the source below. This means the results may be different\n",
            "compared to previous GROMACS versions.\n",
            "\n",
            "++++ PLEASE READ AND CITE THE FOLLOWING REFERENCE ++++\n",
            "A. Bondi\n",
            "van der Waals Volumes and Radii\n",
            "J. Phys. Chem. 68 (1964) pp. 441-451\n",
            "-------- -------- --- Thank You --- -------- --------\n",
            "\n",
            "Generating solvent configuration\n",
            "Will generate new solvent configuration of 3x3x2 boxes\n",
            "Solvent box contains 10302 atoms in 3434 residues\n",
            "Removed 1950 solvent atoms due to solvent-solvent overlap\n",
            "Removed 396 solvent atoms due to solute-solvent overlap\n",
            "Sorting configuration\n",
            "Found 1 molecule type:\n",
            "    SOL (   3 atoms):  2652 residues\n",
            "Generated solvent containing 7956 atoms in 2652 residues\n",
            "Writing generated configuration to BOX/solvated.gro\n",
            "\n",
            "Output configuration contains 8346 atoms in 2672 residues\n",
            "Volume                 :     85.2836 (nm^3)\n",
            "Density                :     985.313 (g/l)\n",
            "Number of solvent molecules:   2652   \n",
            "\n",
            "Processing topology\n",
            "Adding line for 2652 solvent molecules with resname (SOL) to topology file (PROGETTO/cady.top)\n",
            "\n",
            "Back Off! I just backed up PROGETTO/cady.top to PROGETTO/#cady.top.1#\n",
            "\n",
            "GROMACS reminds you: \"Physics isn't a religion. If it were, we'd have a much easier time raising money.\" (Leon Lederman)\n",
            "\n"
          ]
        }
      ],
      "source": [
        "!gmx solvate -cp BOX/box.gro -o BOX/solvated.gro -p PROGETTO/cady.top  #lanciare solo in caso solvatato"
      ]
    },
    {
      "cell_type": "code",
      "source": [
        "%%bash\n",
        "touch dummy.mdp\n",
        "gmx grompp -f dummy.mdp -c BOX/solvated.gro -p PROGETTO/cady.top -o BOX/ions.tpr"
      ],
      "metadata": {
        "colab": {
          "base_uri": "https://localhost:8080/"
        },
        "id": "n9nu6ueaFXea",
        "outputId": "44a12014-44b3-421f-b495-605a808b27c6"
      },
      "execution_count": 24,
      "outputs": [
        {
          "output_type": "stream",
          "name": "stdout",
          "text": [
            "Analysing residue names:\n",
            "There are:    20    Protein residues\n",
            "There are:  2652      Water residues\n",
            "Analysing Protein...\n",
            "This run will generate roughly 1 Mb of data\n"
          ]
        },
        {
          "output_type": "stream",
          "name": "stderr",
          "text": [
            "              :-) GROMACS - gmx grompp, 2020.1-Ubuntu-2020.1-1 (-:\n",
            "\n",
            "                            GROMACS is written by:\n",
            "     Emile Apol      Rossen Apostolov      Paul Bauer     Herman J.C. Berendsen\n",
            "    Par Bjelkmar      Christian Blau   Viacheslav Bolnykh     Kevin Boyd    \n",
            " Aldert van Buuren   Rudi van Drunen     Anton Feenstra       Alan Gray     \n",
            "  Gerrit Groenhof     Anca Hamuraru    Vincent Hindriksen  M. Eric Irrgang  \n",
            "  Aleksei Iupinov   Christoph Junghans     Joe Jordan     Dimitrios Karkoulis\n",
            "    Peter Kasson        Jiri Kraus      Carsten Kutzner      Per Larsson    \n",
            "  Justin A. Lemkul    Viveca Lindahl    Magnus Lundborg     Erik Marklund   \n",
            "    Pascal Merz     Pieter Meulenhoff    Teemu Murtola       Szilard Pall   \n",
            "    Sander Pronk      Roland Schulz      Michael Shirts    Alexey Shvetsov  \n",
            "   Alfons Sijbers     Peter Tieleman      Jon Vincent      Teemu Virolainen \n",
            " Christian Wennberg    Maarten Wolf      Artem Zhmurov   \n",
            "                           and the project leaders:\n",
            "        Mark Abraham, Berk Hess, Erik Lindahl, and David van der Spoel\n",
            "\n",
            "Copyright (c) 1991-2000, University of Groningen, The Netherlands.\n",
            "Copyright (c) 2001-2019, The GROMACS development team at\n",
            "Uppsala University, Stockholm University and\n",
            "the Royal Institute of Technology, Sweden.\n",
            "check out http://www.gromacs.org for more information.\n",
            "\n",
            "GROMACS is free software; you can redistribute it and/or modify it\n",
            "under the terms of the GNU Lesser General Public License\n",
            "as published by the Free Software Foundation; either version 2.1\n",
            "of the License, or (at your option) any later version.\n",
            "\n",
            "GROMACS:      gmx grompp, version 2020.1-Ubuntu-2020.1-1\n",
            "Executable:   /usr/bin/gmx\n",
            "Data prefix:  /usr\n",
            "Working dir:  /content\n",
            "Command line:\n",
            "  gmx grompp -f dummy.mdp -c BOX/solvated.gro -p PROGETTO/cady.top -o BOX/ions.tpr\n",
            "\n",
            "\n",
            "NOTE 1 [file dummy.mdp]:\n",
            "  For a correct single-point energy evaluation with nsteps = 0, use\n",
            "  continuation = yes to avoid constraining the input coordinates.\n",
            "\n",
            "Setting the LD random seed to -1788829603\n",
            "Generated 2145 of the 2145 non-bonded parameter combinations\n",
            "Generating 1-4 interactions: fudge = 0.5\n",
            "Generated 2145 of the 2145 1-4 parameter combinations\n",
            "Excluding 3 bonded neighbours molecule type 'Protein'\n",
            "Excluding 2 bonded neighbours molecule type 'SOL'\n",
            "\n",
            "NOTE 2 [file cady.top, line 3752]:\n",
            "  System has non-zero total charge: 5.000000\n",
            "  Total charge should normally be an integer. See\n",
            "  http://www.gromacs.org/Documentation/Floating_Point_Arithmetic\n",
            "  for discussion on how close it should be to an integer.\n",
            "  \n",
            "\n",
            "\n",
            "Number of degrees of freedom in T-Coupling group rest is 17079.00\n",
            "\n",
            "NOTE 3 [file dummy.mdp]:\n",
            "  NVE simulation with an initial temperature of zero: will use a Verlet\n",
            "  buffer of 10%. Check your energy drift!\n",
            "\n",
            "\n",
            "NOTE 4 [file dummy.mdp]:\n",
            "  You are using a plain Coulomb cut-off, which might produce artifacts.\n",
            "  You might want to consider using PME electrostatics.\n",
            "\n",
            "\n",
            "\n",
            "There were 4 notes\n",
            "\n",
            "GROMACS reminds you: \"Baseball Heroes Only\" (P.J. Harvey)\n",
            "\n"
          ]
        }
      ]
    },
    {
      "cell_type": "code",
      "execution_count": 25,
      "metadata": {
        "id": "CJxrWfpH2fEg",
        "colab": {
          "base_uri": "https://localhost:8080/"
        },
        "outputId": "1bbc2d2d-8bb5-4bdb-c89e-485c58b1a759"
      },
      "outputs": [
        {
          "output_type": "stream",
          "name": "stdout",
          "text": [
            "              :-) GROMACS - gmx genion, 2020.1-Ubuntu-2020.1-1 (-:\n",
            "\n",
            "                            GROMACS is written by:\n",
            "     Emile Apol      Rossen Apostolov      Paul Bauer     Herman J.C. Berendsen\n",
            "    Par Bjelkmar      Christian Blau   Viacheslav Bolnykh     Kevin Boyd    \n",
            " Aldert van Buuren   Rudi van Drunen     Anton Feenstra       Alan Gray     \n",
            "  Gerrit Groenhof     Anca Hamuraru    Vincent Hindriksen  M. Eric Irrgang  \n",
            "  Aleksei Iupinov   Christoph Junghans     Joe Jordan     Dimitrios Karkoulis\n",
            "    Peter Kasson        Jiri Kraus      Carsten Kutzner      Per Larsson    \n",
            "  Justin A. Lemkul    Viveca Lindahl    Magnus Lundborg     Erik Marklund   \n",
            "    Pascal Merz     Pieter Meulenhoff    Teemu Murtola       Szilard Pall   \n",
            "    Sander Pronk      Roland Schulz      Michael Shirts    Alexey Shvetsov  \n",
            "   Alfons Sijbers     Peter Tieleman      Jon Vincent      Teemu Virolainen \n",
            " Christian Wennberg    Maarten Wolf      Artem Zhmurov   \n",
            "                           and the project leaders:\n",
            "        Mark Abraham, Berk Hess, Erik Lindahl, and David van der Spoel\n",
            "\n",
            "Copyright (c) 1991-2000, University of Groningen, The Netherlands.\n",
            "Copyright (c) 2001-2019, The GROMACS development team at\n",
            "Uppsala University, Stockholm University and\n",
            "the Royal Institute of Technology, Sweden.\n",
            "check out http://www.gromacs.org for more information.\n",
            "\n",
            "GROMACS is free software; you can redistribute it and/or modify it\n",
            "under the terms of the GNU Lesser General Public License\n",
            "as published by the Free Software Foundation; either version 2.1\n",
            "of the License, or (at your option) any later version.\n",
            "\n",
            "GROMACS:      gmx genion, version 2020.1-Ubuntu-2020.1-1\n",
            "Executable:   /usr/bin/gmx\n",
            "Data prefix:  /usr\n",
            "Working dir:  /content\n",
            "Command line:\n",
            "  gmx genion -s BOX/ions.tpr -p PROGETTO/cady.top -o BOX/box_ions.gro -conc 0.15 -neutral\n",
            "\n",
            "Reading file BOX/ions.tpr, VERSION 2020.1-Ubuntu-2020.1-1 (single precision)\n",
            "Reading file BOX/ions.tpr, VERSION 2020.1-Ubuntu-2020.1-1 (single precision)\n",
            "Will try to add 8 NA ions and 13 CL ions.\n",
            "Select a continuous group of solvent molecules\n",
            "Group     0 (         System) has  8346 elements\n",
            "Group     1 (        Protein) has   390 elements\n",
            "Group     2 (      Protein-H) has   188 elements\n",
            "Group     3 (        C-alpha) has    20 elements\n",
            "Group     4 (       Backbone) has    60 elements\n",
            "Group     5 (      MainChain) has    81 elements\n",
            "Group     6 (   MainChain+Cb) has   100 elements\n",
            "Group     7 (    MainChain+H) has   103 elements\n",
            "Group     8 (      SideChain) has   287 elements\n",
            "Group     9 (    SideChain-H) has   107 elements\n",
            "Group    10 (    Prot-Masses) has   390 elements\n",
            "Group    11 (    non-Protein) has  7956 elements\n",
            "Group    12 (          Water) has  7956 elements\n",
            "Group    13 (            SOL) has  7956 elements\n",
            "Group    14 (      non-Water) has   390 elements\n",
            "Select a group: Selected 13: 'SOL'\n",
            "Number of (3-atomic) solvent molecules: 2652\n",
            "\n",
            "Processing topology\n",
            "Replacing 21 solute molecules in topology file (PROGETTO/cady.top)  by 8 NA and 13 CL ions.\n",
            "\n",
            "Back Off! I just backed up PROGETTO/cady.top to PROGETTO/#cady.top.2#\n",
            "Using random seed -587049409.\n",
            "Replacing solvent molecule 1481 (atom 4833) with NA\n",
            "Replacing solvent molecule 2023 (atom 6459) with NA\n",
            "Replacing solvent molecule 950 (atom 3240) with NA\n",
            "Replacing solvent molecule 1221 (atom 4053) with NA\n",
            "Replacing solvent molecule 2105 (atom 6705) with NA\n",
            "Replacing solvent molecule 1337 (atom 4401) with NA\n",
            "Replacing solvent molecule 674 (atom 2412) with NA\n",
            "Replacing solvent molecule 2552 (atom 8046) with NA\n",
            "Replacing solvent molecule 685 (atom 2445) with CL\n",
            "Replacing solvent molecule 2096 (atom 6678) with CL\n",
            "Replacing solvent molecule 2487 (atom 7851) with CL\n",
            "Replacing solvent molecule 1611 (atom 5223) with CL\n",
            "Replacing solvent molecule 997 (atom 3381) with CL\n",
            "Replacing solvent molecule 1437 (atom 4701) with CL\n",
            "Replacing solvent molecule 1846 (atom 5928) with CL\n",
            "Replacing solvent molecule 1452 (atom 4746) with CL\n",
            "Replacing solvent molecule 2135 (atom 6795) with CL\n",
            "Replacing solvent molecule 1890 (atom 6060) with CL\n",
            "Replacing solvent molecule 464 (atom 1782) with CL\n",
            "Replacing solvent molecule 1526 (atom 4968) with CL\n",
            "Replacing solvent molecule 34 (atom 492) with CL\n",
            "\n",
            "\n",
            "GROMACS reminds you: \"We'll celebrate a woman for anything, as long as it's not her talent.\" (Colleen McCullough)\n",
            "\n"
          ]
        }
      ],
      "source": [
        "!echo \"SOL\" | gmx genion -s BOX/ions.tpr -p PROGETTO/cady.top -o BOX/box_ions.gro -conc 0.15 -neutral "
      ]
    },
    {
      "cell_type": "markdown",
      "source": [
        "Per la minimizzazione capire come verificare la fattibilità del processo; per ora usare verifica visiva com VMD"
      ],
      "metadata": {
        "id": "5XDIugfywQS2"
      }
    },
    {
      "cell_type": "markdown",
      "metadata": {
        "id": "Yr2mmy2N199z"
      },
      "source": [
        "## Energy minimization procedure "
      ]
    },
    {
      "cell_type": "code",
      "source": [
        "%%bash\n",
        "gmx grompp -f data/.mdp -p system .top -c system/box_ions.gro -o 00-em/em.tpr "
      ],
      "metadata": {
        "id": "FfrD_o3klqQ6"
      },
      "execution_count": null,
      "outputs": []
    },
    {
      "cell_type": "code",
      "source": [
        "! gmx mdrun -s 00-em/em.tpr -deffnm 00-em/em -v -ntmpi 2"
      ],
      "metadata": {
        "id": "ucy32xDtl2V0"
      },
      "execution_count": null,
      "outputs": []
    },
    {
      "cell_type": "code",
      "source": [
        "! echo -e \"Potential \\n 0\" | gmx energy -f 00-em/em.edr -o 00-em/potential.xvg"
      ],
      "metadata": {
        "id": "HoBHWqZNnhQt"
      },
      "execution_count": null,
      "outputs": []
    },
    {
      "cell_type": "code",
      "source": [
        "import matplotlib.pyplot as plt # Import from the library matplotlib  the package pyplot and alias it as plt \n",
        "import numpy as np #import the library numpy and alias it as np\n",
        "'''load the data from the potential.xvg format into data, ...\n",
        "define the comments as raw starting with either # or @'''\n",
        "data=np.loadtxt(\"00-em/potential.xvg\",comments=[\"#\",\"@\"])\n",
        "step=data[:,0] #assign the first column of data to the variable step\n",
        "energy=data[:,1] #assign the second column of data to the variable potential\n",
        "plt.plot(step,energy) #plot the function potential(data)\n",
        "plt.xlabel(\"Step\",size=14) #assign the x label \n",
        "plt.ylabel(\"Energy [KJ/mol]\",size=14) #assign the y label\n",
        "plt.title(\"Potential energy as a function of step\"); #assign a title \n",
        "#save the figure in png format with a resolution of 300 dot per inch \"dpi\" \n",
        "plt.savefig(\"potential.png\",format=\"png\", dpi=300)\n",
        "#sull' asse x non c'è davvero il tempo ma gli step di integrazione!! (CHIESTO ALL'ESAME)"
      ],
      "metadata": {
        "id": "os-kizPsosht"
      },
      "execution_count": null,
      "outputs": []
    },
    {
      "cell_type": "markdown",
      "source": [
        "# RMSD\n",
        "\n"
      ],
      "metadata": {
        "id": "-toAhtCAxKzA"
      }
    },
    {
      "cell_type": "code",
      "source": [
        "! gmx confrms -f1 base.gro -f2 mod.gro -[no]name CA -o sovrapposizione."
      ],
      "metadata": {
        "colab": {
          "base_uri": "https://localhost:8080/"
        },
        "id": "DM0f5DMPxVPP",
        "outputId": "1a0a8a18-c0dd-46c8-d5ca-83e5ccb9afec"
      },
      "execution_count": null,
      "outputs": [
        {
          "output_type": "stream",
          "name": "stdout",
          "text": [
            "             :-) GROMACS - gmx confrms, 2020.1-Ubuntu-2020.1-1 (-:\n",
            "\n",
            "                            GROMACS is written by:\n",
            "     Emile Apol      Rossen Apostolov      Paul Bauer     Herman J.C. Berendsen\n",
            "    Par Bjelkmar      Christian Blau   Viacheslav Bolnykh     Kevin Boyd    \n",
            " Aldert van Buuren   Rudi van Drunen     Anton Feenstra       Alan Gray     \n",
            "  Gerrit Groenhof     Anca Hamuraru    Vincent Hindriksen  M. Eric Irrgang  \n",
            "  Aleksei Iupinov   Christoph Junghans     Joe Jordan     Dimitrios Karkoulis\n",
            "    Peter Kasson        Jiri Kraus      Carsten Kutzner      Per Larsson    \n",
            "  Justin A. Lemkul    Viveca Lindahl    Magnus Lundborg     Erik Marklund   \n",
            "    Pascal Merz     Pieter Meulenhoff    Teemu Murtola       Szilard Pall   \n",
            "    Sander Pronk      Roland Schulz      Michael Shirts    Alexey Shvetsov  \n",
            "   Alfons Sijbers     Peter Tieleman      Jon Vincent      Teemu Virolainen \n",
            " Christian Wennberg    Maarten Wolf      Artem Zhmurov   \n",
            "                           and the project leaders:\n",
            "        Mark Abraham, Berk Hess, Erik Lindahl, and David van der Spoel\n",
            "\n",
            "Copyright (c) 1991-2000, University of Groningen, The Netherlands.\n",
            "Copyright (c) 2001-2019, The GROMACS development team at\n",
            "Uppsala University, Stockholm University and\n",
            "the Royal Institute of Technology, Sweden.\n",
            "check out http://www.gromacs.org for more information.\n",
            "\n",
            "GROMACS is free software; you can redistribute it and/or modify it\n",
            "under the terms of the GNU Lesser General Public License\n",
            "as published by the Free Software Foundation; either version 2.1\n",
            "of the License, or (at your option) any later version.\n",
            "\n",
            "GROMACS:      gmx confrms, version 2020.1-Ubuntu-2020.1-1\n",
            "Executable:   /usr/bin/gmx\n",
            "Data prefix:  /usr\n",
            "Working dir:  /content\n",
            "Command line:\n",
            "  gmx confrms -h\n",
            "\n",
            "SYNOPSIS\n",
            "\n",
            "gmx confrms [-f1 [<.tpr/.gro/...>]] [-f2 [<.gro/.g96/...>]] [-n1 [<.ndx>]]\n",
            "            [-n2 [<.ndx>]] [-o [<.gro/.g96/...>]] [-no [<.ndx>]] [-[no]w]\n",
            "            [-[no]one] [-[no]mw] [-[no]pbc] [-[no]fit] [-[no]name]\n",
            "            [-[no]label] [-[no]bfac]\n",
            "\n",
            "DESCRIPTION\n",
            "\n",
            "gmx confrms computes the root mean square deviation (RMSD) of two structures\n",
            "after least-squares fitting the second structure on the first one. The two\n",
            "structures do NOT need to have the same number of atoms, only the two index\n",
            "groups used for the fit need to be identical. With -name only matching atom\n",
            "names from the selected groups will be used for the fit and RMSD calculation.\n",
            "This can be useful when comparing mutants of a protein.\n",
            "\n",
            "The superimposed structures are written to file. In a .pdb file the two\n",
            "structures will be written as separate models (use rasmol -nmrpdb). Also in a\n",
            ".pdb file, B-factors calculated from the atomic MSD values can be written with\n",
            "-bfac.\n",
            "\n",
            "OPTIONS\n",
            "\n",
            "Options to specify input files:\n",
            "\n",
            " -f1     [<.tpr/.gro/...>]  (conf1.gro)\n",
            "           Structure+mass(db): tpr gro g96 pdb brk ent\n",
            " -f2     [<.gro/.g96/...>]  (conf2.gro)\n",
            "           Structure file: gro g96 pdb brk ent esp tpr\n",
            " -n1     [<.ndx>]           (fit1.ndx)       (Opt.)\n",
            "           Index file\n",
            " -n2     [<.ndx>]           (fit2.ndx)       (Opt.)\n",
            "           Index file\n",
            "\n",
            "Options to specify output files:\n",
            "\n",
            " -o      [<.gro/.g96/...>]  (fit.pdb)\n",
            "           Structure file: gro g96 pdb brk ent esp\n",
            " -no     [<.ndx>]           (match.ndx)      (Opt.)\n",
            "           Index file\n",
            "\n",
            "Other options:\n",
            "\n",
            " -[no]w                     (no)\n",
            "           View output .xvg, .xpm, .eps and .pdb files\n",
            " -[no]one                   (no)\n",
            "           Only write the fitted structure to file\n",
            " -[no]mw                    (yes)\n",
            "           Mass-weighted fitting and RMSD\n",
            " -[no]pbc                   (no)\n",
            "           Try to make molecules whole again\n",
            " -[no]fit                   (yes)\n",
            "           Do least squares superposition of the target structure to the\n",
            "           reference\n",
            " -[no]name                  (no)\n",
            "           Only compare matching atom names\n",
            " -[no]label                 (no)\n",
            "           Added chain labels A for first and B for second structure\n",
            " -[no]bfac                  (no)\n",
            "           Output B-factors from atomic MSD values\n",
            "\n",
            "GROMACS reminds you: \"The most exciting phrase to hear in science, the one that heralds new discoveries, is not \"Eureka\" but \"That's funny...\".\" (Isaac Asimov)\n",
            "\n"
          ]
        }
      ]
    },
    {
      "cell_type": "markdown",
      "metadata": {
        "id": "OKw4eAPF1992"
      },
      "source": [
        "## Position Restraint"
      ]
    },
    {
      "cell_type": "code",
      "source": [],
      "metadata": {
        "id": "s3O34RaxpwyC"
      },
      "execution_count": null,
      "outputs": []
    }
  ],
  "metadata": {
    "colab": {
      "provenance": [],
      "include_colab_link": true
    },
    "kernelspec": {
      "display_name": "Python 3",
      "name": "python3"
    },
    "language_info": {
      "name": "python"
    }
  },
  "nbformat": 4,
  "nbformat_minor": 0
}